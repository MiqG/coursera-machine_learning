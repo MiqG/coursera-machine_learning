{
 "cells": [
  {
   "cell_type": "markdown",
   "metadata": {},
   "source": [
    "# Machine Learning (Andrew Ng, Stanford University)\n",
    "Source: https://www.coursera.org/learn/machine-learning/home/welcome\n",
    "\n",
    "## Introduction: Types of Machine Learning problems\n",
    "### Supervised Learning\n",
    "We try to learn from a **training dataset** that we assume is \"correct\" the parameters for best classification or regression. \n",
    "For that, the algorithm will take into account the combination of variables that are fed.\n",
    "The way in which the features are mathematically processed depends on the kernel function of the ML algorithm.\n",
    "### Unsupervised Learning\n",
    "Conversely, if the dataset is unlabeled, we try to find structure within the data. For example, clustering algorithms.\n",
    "## Linear Regression with One Variable\n",
    "### Model and Cost Function\n",
    "### Parameter learning\n",
    "## Linear Regression with Multiple Variables\n",
    "### Multivariate Linear Regression\n",
    "### Computing Parameters Analytically\n",
    "## Logistic Regression\n",
    "### Classification and Representation\n",
    "### Logistic Regression Model\n",
    "### Multiclass Classification\n",
    "## Regularization\n",
    "### Solving the Problem of Overfitting\n",
    "## Neural Networks\n",
    "### Representation\n",
    "### Cost Function and Backpropagation\n",
    "## Advice for Applying Machine Learning\n",
    "### Evaluating a Learning Algorithm\n",
    "### Bias vs. Variance\n",
    "## Machine Learning System Design\n",
    "### Building a spam filter\n",
    "### Handling Skewed Data\n",
    "### Using Large Data Sets\n",
    "## Support Vector Machines (SVM)\n",
    "### Large Margin Classification\n",
    "### Kernels\n",
    "### SVMs in Practice\n",
    "## Unsupervised Learning\n",
    "### Clustering\n",
    "## Dimensionality Reduction\n",
    "### Principal Component Analysis\n",
    "### Applying PCA\n",
    "## Anomaly detection\n",
    "### Density Estimation\n",
    "### Building an Anomaly Detection System\n",
    "### Multivariate Gaussian Distribution\n",
    "## Large Scale Machine Learning\n",
    "### Gradient Descent with Large Datasets\n",
    "### Advanced topics\n",
    "## Application Example: Photo OCR"
   ]
  }
 ],
 "metadata": {
  "kernelspec": {
   "display_name": "Python 3",
   "language": "python",
   "name": "python3"
  },
  "language_info": {
   "codemirror_mode": {
    "name": "ipython",
    "version": 3
   },
   "file_extension": ".py",
   "mimetype": "text/x-python",
   "name": "python",
   "nbconvert_exporter": "python",
   "pygments_lexer": "ipython3",
   "version": "3.7.3"
  }
 },
 "nbformat": 4,
 "nbformat_minor": 4
}
