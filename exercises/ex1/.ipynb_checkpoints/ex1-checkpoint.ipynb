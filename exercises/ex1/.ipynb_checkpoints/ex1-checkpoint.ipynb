{
 "cells": [
  {
   "cell_type": "markdown",
   "metadata": {},
   "source": [
    "# Exercise 1\n",
    "In this notebook I will perform the exercises from the course using Python 3."
   ]
  },
  {
   "cell_type": "markdown",
   "metadata": {},
   "source": [
    "## Linear regression with one variable\n",
    "\n",
    "Suppose you are the CEO of a\n",
    "restaurant franchise and are considering different cities for opening a new\n",
    "outlet. \n",
    "The chain already has trucks in various cities and you have data for\n",
    "profits and populations from the cities.\n",
    "You would like to use this data to help you select which city to expand\n",
    "to next.\n",
    "\n",
    "The file ex1data1.txt contains the dataset for our linear regression problem. The first column is the population of a city and the second column is\n",
    "the profit of a food truck in that city. A negative value for profit indicates a\n",
    "loss."
   ]
  },
  {
   "cell_type": "code",
   "execution_count": 1,
   "metadata": {},
   "outputs": [],
   "source": [
    "# libraries\n",
    "import pandas as pd"
   ]
  }
 ],
 "metadata": {
  "kernelspec": {
   "display_name": "Python [conda env:ml_exercises]",
   "language": "python",
   "name": "conda-env-ml_exercises-py"
  },
  "language_info": {
   "codemirror_mode": {
    "name": "ipython",
    "version": 3
   },
   "file_extension": ".py",
   "mimetype": "text/x-python",
   "name": "python",
   "nbconvert_exporter": "python",
   "pygments_lexer": "ipython3",
   "version": "3.7.3"
  },
  "toc-showtags": false
 },
 "nbformat": 4,
 "nbformat_minor": 4
}
