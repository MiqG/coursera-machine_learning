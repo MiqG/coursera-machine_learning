{
 "cells": [
  {
   "cell_type": "markdown",
   "metadata": {},
   "source": [
    "# Exercise 4: Neural Networks Learning\n",
    "\n",
    "In this exercise, you will implement the backpropagation algorithm for neural\n",
    "networks and apply it to the task of hand-written digit recognition."
   ]
  },
  {
   "cell_type": "code",
   "execution_count": 48,
   "metadata": {},
   "outputs": [],
   "source": [
    "# libraries\n",
    "# data handling\n",
    "import pandas as pd\n",
    "import numpy as np\n",
    "\n",
    "# fit parameters\n",
    "import scipy as sp\n",
    "\n",
    "# data visualization\n",
    "import seaborn as sns\n",
    "import matplotlib.pyplot as plt\n",
    "import matplotlib.cm as cm\n",
    "from mpl_toolkits import mplot3d"
   ]
  },
  {
   "cell_type": "markdown",
   "metadata": {},
   "source": [
    "## Neural Networks\n",
    "\n",
    "In the previous exercise, you implemented feedforward propagation for neural networks and used it to predict handwritten digits with the weights we\n",
    "provided. In this exercise, you will implement the backpropagation algorithm\n",
    "to learn the parameters for the neural network."
   ]
  },
  {
   "cell_type": "markdown",
   "metadata": {},
   "source": [
    "### Visualizing the data"
   ]
  },
  {
   "cell_type": "code",
   "execution_count": 49,
   "metadata": {},
   "outputs": [
    {
     "name": "stdout",
     "output_type": "stream",
     "text": [
      "Shape X: (5000, 401) Shape Y: (5000, 1)\n"
     ]
    },
    {
     "data": {
      "image/png": "[encoded data removed]",
      "text/plain": [
       "<Figure size 432x288 with 1 Axes>"
      ]
     },
     "metadata": {
      "needs_background": "light"
     },
     "output_type": "display_data"
    }
   ],
   "source": [
    "# import first dataset\n",
    "dat = sp.io.loadmat(\"../ex3/ex3/ex3data1.mat\")\n",
    "y = np.array(dat[\"y\"], dtype=\"float\")  # convert to float because uint8 is problematic\n",
    "x = np.c_[np.ones(len(y)), dat[\"X\"]]  # add intercept term\n",
    "# the 0 digit is labeled as 10!\n",
    "y[y == 10] = 0\n",
    "\n",
    "# check\n",
    "print(\"Shape X:\", x.shape, \"Shape Y:\", y.shape)\n",
    "\n",
    "# example\n",
    "plt.imshow(x[1, 1::].reshape(20, 20))\n",
    "plt.show()"
   ]
  },
  {
   "cell_type": "markdown",
   "metadata": {},
   "source": [
    "### Model Representation\n",
    "\n",
    "Our neural network is shown in Figure 2. It has 3 layers – an input layer,\n",
    "a hidden layer and an output layer. Recall that our inputs are pixel values of digit images. Since the images are of size 20 × 20, this gives us 400 input\n",
    "layer units (not counting the extra bias unit which always outputs +1).\n",
    "\n",
    "![](fig_nn_ex3.png)"
   ]
  },
  {
   "cell_type": "code",
   "execution_count": 50,
   "metadata": {},
   "outputs": [
    {
     "name": "stdout",
     "output_type": "stream",
     "text": [
      "(25, 401) (10, 26)\n"
     ]
    }
   ],
   "source": [
    "# load trained weights\n",
    "weights = sp.io.loadmat(\"ex4/ex4weights.mat\")\n",
    "Theta1 = weights[\"Theta1\"]  # hidden layer\n",
    "Theta2 = weights[\"Theta2\"]  # output layer\n",
    "\n",
    "# swap first and last columns of Theta2, due to legacy from MATLAB indexing,\n",
    "# since the weight file ex4weights.mat was saved based on MATLAB indexing\n",
    "Theta2 = np.roll(Theta2, 1, axis=0)\n",
    "\n",
    "# check\n",
    "print(Theta1.shape, Theta2.shape)"
   ]
  },
  {
   "cell_type": "markdown",
   "metadata": {},
   "source": [
    "### Feedforward and cost function\n",
    "\n",
    "Recall that the cost function for the neural network is\n",
    "\n",
    "$$J(\\Theta) = -\\frac{1}{m} \\sum_{i=1}^{m}\\sum_{i=k}^{K} [y_{k}^{(i)} log((h_{\\Theta}(x^{(i)}))_{k})+(1-y_{k}^{(i)})log((1-(h_{\\Theta}(x^{(i)}))_{k})] + \\frac{\\lambda}{2 m} \\sum_{l=1}^{L-1} \\sum_{i=1}^{s_l}\\sum_{j=1}^{s_{l+1}} (\\Theta_{j,i}^{(l)})^2$$\n",
    "\n",
    "where $h_{\\theta}(x^{(i)})$ is computed as shown in the Figure 2 and K = 10 is the total\n",
    "number of possible labels.Your code should\n",
    "also work for a dataset of any size, with any number of labels.\n",
    "\n",
    "Also, recall that whereas the original labels\n",
    "(in the variable y) were 1, 2, ..., 10, for the purpose of training a neural\n",
    "network, we need to recode the labels as vectors containing only values 0 or\n",
    "1, so that each is a vector\n",
    "\n",
    "You should see that the cost is\n",
    "about 0.287629."
   ]
  },
  {
   "cell_type": "code",
   "execution_count": 51,
   "metadata": {},
   "outputs": [
    {
     "name": "stdout",
     "output_type": "stream",
     "text": [
      "Recoded:\n",
      "[[1. 0. 0. ... 0. 0. 0.]\n",
      " [1. 0. 0. ... 0. 0. 0.]\n",
      " [1. 0. 0. ... 0. 0. 0.]\n",
      " ...\n",
      " [0. 0. 0. ... 0. 0. 1.]\n",
      " [0. 0. 0. ... 0. 0. 1.]\n",
      " [0. 0. 0. ... 0. 0. 1.]]\n",
      "Original:\n",
      "[[0.]\n",
      " [0.]\n",
      " [0.]\n",
      " ...\n",
      " [9.]\n",
      " [9.]\n",
      " [9.]]\n"
     ]
    }
   ],
   "source": [
    "def recode_out(y, K):\n",
    "    \"\"\"\n",
    "    Recode each y into vector of 0s and 1, given K possible labels. Returns a matrix with where each row\n",
    "    corresponds to an output vector of each entry.\n",
    "    \"\"\"\n",
    "    # init output\n",
    "    o = np.zeros((len(y), K))\n",
    "\n",
    "    for i in range(len(y)):\n",
    "        # introduce 1 corresponding to the digit\n",
    "        o[i, int(y[i])] = 1\n",
    "\n",
    "    return o\n",
    "\n",
    "\n",
    "# check\n",
    "print(\"Recoded:\")\n",
    "y_rec = recode_out(y, 10)\n",
    "print(y_rec)\n",
    "print(\"Original:\")\n",
    "print(y)"
   ]
  },
  {
   "cell_type": "code",
   "execution_count": 52,
   "metadata": {},
   "outputs": [],
   "source": [
    "# hypothesis function\n",
    "def sigmoid(z):\n",
    "    \"\"\"\n",
    "    Activation function used to map any real value between 0 and 1.\n",
    "    \"\"\"\n",
    "    return 1 / (1 + np.exp(-z))\n",
    "\n",
    "\n",
    "def nn_compute_cost(\n",
    "    nn_params, input_layer_size, hidden_layer_size, num_labels, x, y, lbda\n",
    "):\n",
    "    \"\"\"\n",
    "    Compute cost function given Theta, y and x; regularized by lbda.\n",
    "    First, compute FP to get predicted output, a_3.\n",
    "    Then, compute J.\n",
    "    \"\"\"\n",
    "    # prepare parameters\n",
    "    # m\n",
    "    m = len(y_rec)\n",
    "\n",
    "    # Reshape nn_params back into the parameters Theta1 and Theta2, the weight matrices\n",
    "    # for our 2 layer neural network\n",
    "    Theta1 = np.reshape(\n",
    "        nn_params[: hidden_layer_size * (input_layer_size + 1)],\n",
    "        (hidden_layer_size, (input_layer_size + 1)),\n",
    "    )\n",
    "\n",
    "    Theta2 = np.reshape(\n",
    "        nn_params[(hidden_layer_size * (input_layer_size + 1)) :],\n",
    "        (num_labels, (hidden_layer_size + 1)),\n",
    "    )\n",
    "\n",
    "    # compute forward propagation to have a predicted output from the nn\n",
    "    # init\n",
    "    a_1 = x\n",
    "\n",
    "    # compute hidden layer and add bias\n",
    "    a_2 = np.c_[np.ones(len(x)), sigmoid(a_1.dot(Theta1.T))]\n",
    "\n",
    "    # compute output layer\n",
    "    a_3 = sigmoid(a_2.dot(Theta2.T))\n",
    "\n",
    "    # compute regularization term\n",
    "    reg_term = (lbda / (2 * m)) * (\n",
    "        np.sum(Theta1[:, 1::] ** 2) + np.sum(Theta2[:, 1::] ** 2)\n",
    "    )\n",
    "\n",
    "    # compute cost\n",
    "    J = (-1 / m) * np.sum(\n",
    "        y_rec * np.log(a_3) + (1 - y_rec) * np.log(1 - a_3)\n",
    "    ) + reg_term\n",
    "\n",
    "    return J"
   ]
  },
  {
   "cell_type": "code",
   "execution_count": 53,
   "metadata": {},
   "outputs": [
    {
     "name": "stdout",
     "output_type": "stream",
     "text": [
      "J without regularitation: 0.2876291651613189\n",
      "J with regularitation: 0.38376985909092365\n"
     ]
    }
   ],
   "source": [
    "# without regularization\n",
    "print(\"J without regularitation:\", nn_compute_cost(Theta, 400, 25, 10, x, y, 0))\n",
    "\n",
    "# with regulariztation\n",
    "print(\"J with regularitation:\", nn_compute_cost(Theta, 400, 25, 10, x, y, 1))"
   ]
  },
  {
   "cell_type": "markdown",
   "metadata": {},
   "source": [
    "## Backpropagation\n",
    "\n",
    "In this part of the exercise, you will implement the backpropagation algorithm to compute the gradient for the neural network cost function.\n",
    "\n",
    "Once you have computed the gradient, you will be able\n",
    "to train the neural network by minimizing the cost function J(Θ) using an\n",
    "advanced optimizer.\n",
    "\n",
    "$$\\delta^{(l-1)} = (\\Theta^{(l-1)})^T \\delta^{(l)} .* g'(a^{(l-1)}) $$\n"
   ]
  },
  {
   "cell_type": "markdown",
   "metadata": {},
   "source": [
    "### Sigmoid gradient\n",
    "\n",
    "To help you get started with this part of the exercise, you will first implement\n",
    "the sigmoid gradient function. The gradient for the sigmoid function can be\n",
    "computed as\n",
    "\n",
    "$$g'(z) = \\frac{d}{dz}g(z) = g(z)(1-g(z))$$\n",
    "\n",
    "When z = 0, the gradient should be exactly 0.25"
   ]
  },
  {
   "cell_type": "code",
   "execution_count": 54,
   "metadata": {},
   "outputs": [
    {
     "name": "stdout",
     "output_type": "stream",
     "text": [
      "0.25\n"
     ]
    }
   ],
   "source": [
    "def d_sigmoid(z):\n",
    "    \"\"\"\n",
    "    Compute gradient of sigmoid function to approximate first derivative function.\n",
    "    \"\"\"\n",
    "    return sigmoid(z) * (1 - sigmoid(z))\n",
    "\n",
    "\n",
    "# check\n",
    "print(d_sigmoid(0))"
   ]
  },
  {
   "cell_type": "markdown",
   "metadata": {},
   "source": [
    "### Random initialization\n",
    "\n",
    "When training neural networks, it is important to randomly initialize the parameters for symmetry breaking. One effective strategy for random initialization is to randomly select values for Θ(l) uniformly in the range $[−\\epsilon_{init}, \\epsilon_{init}]$.\n",
    "You should use $\\epsilon_{init} = 0.12$. This range of values ensures that the parameters\n",
    "are kept small and makes the learning more efficient."
   ]
  },
  {
   "cell_type": "code",
   "execution_count": 55,
   "metadata": {},
   "outputs": [],
   "source": [
    "def randInitializeWeights(L_out, L_in, epsilon_init):\n",
    "    \"\"\"\n",
    "    Return matrix with random numbers [0,1) of dimensions L_out x L_in: L_in is the number of incomming nodes and \n",
    "    L_out is the number of outgoing nodes.\n",
    "    \"\"\"\n",
    "    W = np.random.rand(L_out, 1 + L_in) * 2 * epsilon_init - epsilon_init\n",
    "    return W"
   ]
  },
  {
   "cell_type": "code",
   "execution_count": 56,
   "metadata": {},
   "outputs": [
    {
     "data": {
      "text/plain": [
       "(10, 51)"
      ]
     },
     "execution_count": 56,
     "metadata": {},
     "output_type": "execute_result"
    }
   ],
   "source": [
    "# example\n",
    "randInitializeWeights(10, 50, 0.12).shape"
   ]
  },
  {
   "cell_type": "markdown",
   "metadata": {},
   "source": [
    "### Backpropagation\n",
    "\n",
    "![](fig_nn_bp.png)\n",
    "\n",
    "Now, you will implement the backpropagation algorithm. Recall that\n",
    "the intuition behind the backpropagation algorithm is as follows. Given a\n",
    "training example (x\n",
    "(t)\n",
    ", y(t)\n",
    "), we will first run a “forward pass” to compute\n",
    "all the activations throughout the network, including the output value of the\n",
    "hypothesis hΘ(x). Then, for each node j in layer l, we would like to compute\n",
    "an “error term” δ\n",
    "(l)\n",
    "j\n",
    "that measures how much that node was “responsible”\n",
    "for any errors in our output."
   ]
  },
  {
   "cell_type": "code",
   "execution_count": 57,
   "metadata": {},
   "outputs": [],
   "source": [
    "def nn_compute_gradient(\n",
    "    nn_params, input_layer_size, hidden_layer_size, num_labels, x, y, lbda\n",
    "):\n",
    "    \"\"\"\n",
    "    This function performs a training iteration of the neural network: FP,BP,Cost,Gradient.\n",
    "    \"\"\"\n",
    "    # prepare parameters\n",
    "    # m\n",
    "    m = len(y_rec)\n",
    "\n",
    "    # Reshape nn_params back into the parameters Theta1 and Theta2, the weight matrices\n",
    "    # for our 2 layer neural network\n",
    "    Theta1 = np.reshape(\n",
    "        nn_params[: hidden_layer_size * (input_layer_size + 1)],\n",
    "        (hidden_layer_size, (input_layer_size + 1)),\n",
    "    )\n",
    "\n",
    "    Theta2 = np.reshape(\n",
    "        nn_params[(hidden_layer_size * (input_layer_size + 1)) :],\n",
    "        (num_labels, (hidden_layer_size + 1)),\n",
    "    )\n",
    "\n",
    "    # compute forward propagation to have a predicted output from the nn\n",
    "\n",
    "    # init\n",
    "    a_1 = x\n",
    "\n",
    "    # compute hidden layer and add bias\n",
    "    a_2 = np.c_[np.ones(len(x)), sigmoid(a_1.dot(Theta1.T))]\n",
    "\n",
    "    # compute output layer\n",
    "    a_3 = sigmoid(a_2.dot(Theta2.T))\n",
    "\n",
    "    # compute backpropagation\n",
    "\n",
    "    delta_3 = a_3 - y_rec\n",
    "    # take out column corresponding to bias\n",
    "    delta_2 = (delta_3.dot(Theta2))[:, 1::] * d_sigmoid(a_1.dot(Theta1.T))\n",
    "\n",
    "    # Accumulate the gradient\n",
    "    Delta1 = delta_2.T.dot(a_1)\n",
    "    Delta2 = delta_3.T.dot(a_2)\n",
    "\n",
    "    # compute regularized gradient(s):\n",
    "    grad1 = (1 / m) * Delta1\n",
    "    grad1[:, 1::] = grad1[:, 1::] + (lbda / m) * Theta1[:, 1::]\n",
    "\n",
    "    grad2 = (1 / m) * Delta2\n",
    "    grad2[:, 1::] = grad2[:, 1::] + (lbda / m) * Theta2[:, 1::]\n",
    "\n",
    "    grad = np.concatenate([grad1.ravel(), grad2.ravel()])\n",
    "\n",
    "    return grad"
   ]
  },
  {
   "cell_type": "code",
   "execution_count": 58,
   "metadata": {},
   "outputs": [],
   "source": [
    "# Unroll parameters \n",
    "Theta = np.concatenate([Theta1.ravel(), Theta2.ravel()])"
   ]
  },
  {
   "cell_type": "code",
   "execution_count": 59,
   "metadata": {},
   "outputs": [
    {
     "data": {
      "text/plain": [
       "array([6.18712766e-05, 0.00000000e+00, 0.00000000e+00, ...,\n",
       "       5.00631408e-04, 1.13453370e-03, 1.35707295e-03])"
      ]
     },
     "execution_count": 59,
     "metadata": {},
     "output_type": "execute_result"
    }
   ],
   "source": [
    "nn_compute_gradient(Theta,400,25,10,x,y,0)"
   ]
  },
  {
   "cell_type": "markdown",
   "metadata": {},
   "source": [
    "### Gradient checking"
   ]
  },
  {
   "cell_type": "code",
   "execution_count": 60,
   "metadata": {},
   "outputs": [],
   "source": [
    "def nn_app_parder(\n",
    "    nn_params, input_layer_size, hidden_layer_size, num_labels, x, y, lbda, epsilon\n",
    "):\n",
    "    \"\"\"\n",
    "    Returns numerical gradient of each parameter in nn_params with a difference of epsilon.\n",
    "    \"\"\"\n",
    "\n",
    "    # init\n",
    "    dJ = np.zeros(len(nn_params))\n",
    "    v_epsilon = np.zeros(len(nn_params))\n",
    "\n",
    "    for i in range(len(nn_params)):\n",
    "        # prepare vector\n",
    "        v_epsilon[i] = epsilon\n",
    "\n",
    "        # approximate partial derivative\n",
    "        dJ[i] = (\n",
    "            nn_compute_cost(nn_params + v_epsilon, 400, 25, 10, x, y, 0)\n",
    "            - nn_compute_cost(nn_params - v_epsilon, 400, 25, 10, x, y, 0)\n",
    "        ) / (2 * epsilon)\n",
    "\n",
    "        # re-init epsilon vector\n",
    "        v_epsilon[i] = 0\n",
    "    return dJ"
   ]
  },
  {
   "cell_type": "code",
   "execution_count": 61,
   "metadata": {},
   "outputs": [],
   "source": [
    "epsilon = 0.0001"
   ]
  },
  {
   "cell_type": "code",
   "execution_count": 34,
   "metadata": {},
   "outputs": [
    {
     "data": {
      "text/plain": [
       "array([6.18712778e-05, 0.00000000e+00, 0.00000000e+00, ...,\n",
       "       5.00631414e-04, 1.13453371e-03, 1.35707296e-03])"
      ]
     },
     "execution_count": 34,
     "metadata": {},
     "output_type": "execute_result"
    }
   ],
   "source": [
    "nn_app_parder(Theta,400,25,10,x,y,0,epsilon) # it takes a lot of time..."
   ]
  },
  {
   "cell_type": "markdown",
   "metadata": {},
   "source": [
    "### Learning parameters\n",
    "\n",
    "If your implementation is correct, you should see a reported\n",
    "training accuracy of about 95.3%."
   ]
  },
  {
   "cell_type": "code",
   "execution_count": 75,
   "metadata": {},
   "outputs": [],
   "source": [
    "# training by truncated newton optimization\n",
    "def reg_log_minimize(Theta,input_layer_size,hidden_layer_size,num_labels,x,y,lbda):\n",
    "    \"\"\"\n",
    "    Optimizes theta\n",
    "    \"\"\"\n",
    "    \n",
    "    opt_weights = sp.optimize.minimize(fun = nn_compute_cost,\n",
    "                                       x0 = Theta,\n",
    "                                       args=(input_layer_size,hidden_layer_size,num_labels,x,y,lbda),\n",
    "                                       method = 'TNC',\n",
    "                                       jac = nn_compute_gradient,\n",
    "                                       options = {'maxiter': 400})\n",
    "    \n",
    "    return opt_weights['x']"
   ]
  },
  {
   "cell_type": "code",
   "execution_count": 92,
   "metadata": {},
   "outputs": [],
   "source": [
    "# Setup the parameters you will use for this exercise\n",
    "input_layer_size  = 400  # 20x20 Input Images of Digits\n",
    "hidden_layer_size = 25   # 25 hidden units\n",
    "num_labels = 10          # 10 labels, from 0 to 9\n",
    "lbda = 1               # regularization constant\n",
    "\n",
    "\n",
    "# initialize parameters\n",
    "initial_Theta1 = randInitializeWeights(hidden_layer_size,input_layer_size,0.12)\n",
    "initial_Theta2 = randInitializeWeights(num_labels,hidden_layer_size,0.12)\n",
    "\n",
    "# Unroll parameters\n",
    "initial_nn_params = np.concatenate([initial_Theta1.ravel(), initial_Theta2.ravel()])"
   ]
  },
  {
   "cell_type": "code",
   "execution_count": 93,
   "metadata": {},
   "outputs": [
    {
     "name": "stdout",
     "output_type": "stream",
     "text": [
      "[-1.45322459e+00 -7.50873813e-04 -3.82744228e-04 ... -1.14392518e+00\n",
      "  2.81003373e+00 -2.50417937e+00]\n"
     ]
    }
   ],
   "source": [
    "opt_weights = reg_log_minimize(initial_nn_params,input_layer_size,hidden_layer_size,num_labels,x,y,lbda)\n",
    "print(opt_weights)"
   ]
  },
  {
   "cell_type": "code",
   "execution_count": 94,
   "metadata": {},
   "outputs": [],
   "source": [
    "def predict_nn(nn_params,input_layer_size,hidden_layer_size,num_labels,x):\n",
    "    # prepare parameters\n",
    "   \n",
    "    # Reshape nn_params back into the parameters Theta1 and Theta2, the weight matrices\n",
    "    # for our 2 layer neural network\n",
    "    Theta1 = np.reshape(nn_params[:hidden_layer_size * (input_layer_size + 1)],\n",
    "                        (hidden_layer_size, (input_layer_size + 1)))\n",
    "\n",
    "    Theta2 = np.reshape(nn_params[(hidden_layer_size * (input_layer_size + 1)):],\n",
    "                        (num_labels, (hidden_layer_size + 1)))\n",
    "\n",
    "    \n",
    "    # compute forward propagation to have a predicted output from the nn\n",
    "    \n",
    "    # init\n",
    "    a_1 = x\n",
    "\n",
    "    # compute hidden layer and add bias\n",
    "    a_2 = np.c_[np.ones(len(x)),sigmoid(a_1.dot(Theta1.T))]\n",
    "\n",
    "    # compute output layer\n",
    "    a_3 = sigmoid(a_2.dot(Theta2.T))\n",
    "    \n",
    "    # store the index of the maximum value by row\n",
    "    pred = np.array(a_3.argmax(axis=1),dtype='float').reshape((x.shape[0],1))\n",
    "    \n",
    "    return pred"
   ]
  },
  {
   "cell_type": "code",
   "execution_count": 95,
   "metadata": {},
   "outputs": [
    {
     "name": "stdout",
     "output_type": "stream",
     "text": [
      "Accuracy NN: 99.56\n"
     ]
    }
   ],
   "source": [
    "preds_nn = predict_nn(opt_weights,input_layer_size,hidden_layer_size,num_labels,x)\n",
    "# accuracy\n",
    "acc_nn = np.sum(preds_nn==y)/(len(y))\n",
    "print('Accuracy NN:',acc_nn*100)"
   ]
  },
  {
   "cell_type": "markdown",
   "metadata": {},
   "source": [
    "## Visualizing the hidden layer\n",
    "\n",
    "One way to understand what your neural network is learning is to visualize\n",
    "what the representations captured by the hidden units. Informally, given a\n",
    "particular hidden unit, one way to visualize what it computes is to find an\n",
    "input x that will cause it to activate (that is, to have an activation value\n",
    "(a\n",
    "(l)\n",
    "i\n",
    ") close to 1). For the neural network you trained, notice that the i\n",
    "th row\n",
    "of Θ(1) is a 401-dimensional vector that represents the parameter for the ith\n",
    "hidden unit. If we discard the bias term, we get a 400 dimensional vector\n",
    "that represents the weights from each input pixel to the hidden unit.\n"
   ]
  },
  {
   "cell_type": "code",
   "execution_count": 86,
   "metadata": {},
   "outputs": [
    {
     "data": {
      "text/plain": [
       "(25, 401)"
      ]
     },
     "execution_count": 86,
     "metadata": {},
     "output_type": "execute_result"
    }
   ],
   "source": [
    "# retrieve hidden layer (Theta1) parameters from unrolled vector of optimized parameters\n",
    "hidden_layer = np.reshape(opt_weights[:hidden_layer_size * (input_layer_size + 1)],\n",
    "                        (hidden_layer_size, (input_layer_size + 1)))\n",
    "print(hidden_layer.shape)"
   ]
  },
  {
   "cell_type": "markdown",
   "metadata": {},
   "source": [
    "There are 25 visualizations of the parameters."
   ]
  },
  {
   "cell_type": "code",
   "execution_count": 91,
   "metadata": {},
   "outputs": [
    {
     "data": {
      "image/png": "[encoded data removed]",
      "text/plain": [
       "<Figure size 432x288 with 25 Axes>"
      ]
     },
     "metadata": {
      "needs_background": "light"
     },
     "output_type": "display_data"
    }
   ],
   "source": [
    "fig, ax = plt.subplots(5,5)\n",
    "for i, ax in enumerate(ax.flatten()):\n",
    "    plottable_image = np.reshape(hidden_layer[i,1::], (20, 20))\n",
    "    ax.imshow(plottable_image, cmap='gray_r')"
   ]
  }
 ],
 "metadata": {
  "kernelspec": {
   "display_name": "Python [conda env:ml_exercises]",
   "language": "python",
   "name": "conda-env-ml_exercises-py"
  },
  "language_info": {
   "codemirror_mode": {
    "name": "ipython",
    "version": 3
   },
   "file_extension": ".py",
   "mimetype": "text/x-python",
   "name": "python",
   "nbconvert_exporter": "python",
   "pygments_lexer": "ipython3",
   "version": "3.7.3"
  }
 },
 "nbformat": 4,
 "nbformat_minor": 4
}
